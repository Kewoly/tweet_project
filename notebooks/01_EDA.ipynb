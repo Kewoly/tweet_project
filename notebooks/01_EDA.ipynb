{
 "cells": [
  {
   "cell_type": "code",
   "execution_count": 1,
   "id": "24e90a02",
   "metadata": {},
   "outputs": [],
   "source": [
    "import pandas as pd\n",
    "import numpy as np\n",
    "import matplotlib.pyplot as plt\n",
    "import seaborn as sns"
   ]
  },
  {
   "cell_type": "code",
   "execution_count": 3,
   "id": "91ad7a8d",
   "metadata": {},
   "outputs": [],
   "source": [
    "# Chargement des données\n",
    "df = pd.read_csv('../data/tweets.csv')"
   ]
  },
  {
   "cell_type": "code",
   "execution_count": 8,
   "id": "32bd81da",
   "metadata": {},
   "outputs": [
    {
     "data": {
      "text/html": [
       "<div>\n",
       "<style scoped>\n",
       "    .dataframe tbody tr th:only-of-type {\n",
       "        vertical-align: middle;\n",
       "    }\n",
       "\n",
       "    .dataframe tbody tr th {\n",
       "        vertical-align: top;\n",
       "    }\n",
       "\n",
       "    .dataframe thead th {\n",
       "        text-align: right;\n",
       "    }\n",
       "</style>\n",
       "<table border=\"1\" class=\"dataframe\">\n",
       "  <thead>\n",
       "    <tr style=\"text-align: right;\">\n",
       "      <th></th>\n",
       "      <th>id</th>\n",
       "      <th>keyword</th>\n",
       "      <th>location</th>\n",
       "      <th>text</th>\n",
       "      <th>target</th>\n",
       "    </tr>\n",
       "  </thead>\n",
       "  <tbody>\n",
       "    <tr>\n",
       "      <th>0</th>\n",
       "      <td>1</td>\n",
       "      <td>NaN</td>\n",
       "      <td>NaN</td>\n",
       "      <td>Our Deeds are the Reason of this #earthquake M...</td>\n",
       "      <td>1</td>\n",
       "    </tr>\n",
       "    <tr>\n",
       "      <th>1</th>\n",
       "      <td>4</td>\n",
       "      <td>NaN</td>\n",
       "      <td>NaN</td>\n",
       "      <td>Forest fire near La Ronge Sask. Canada</td>\n",
       "      <td>1</td>\n",
       "    </tr>\n",
       "    <tr>\n",
       "      <th>2</th>\n",
       "      <td>5</td>\n",
       "      <td>NaN</td>\n",
       "      <td>NaN</td>\n",
       "      <td>All residents asked to 'shelter in place' are ...</td>\n",
       "      <td>1</td>\n",
       "    </tr>\n",
       "    <tr>\n",
       "      <th>3</th>\n",
       "      <td>6</td>\n",
       "      <td>NaN</td>\n",
       "      <td>NaN</td>\n",
       "      <td>13,000 people receive #wildfires evacuation or...</td>\n",
       "      <td>1</td>\n",
       "    </tr>\n",
       "    <tr>\n",
       "      <th>4</th>\n",
       "      <td>7</td>\n",
       "      <td>NaN</td>\n",
       "      <td>NaN</td>\n",
       "      <td>Just got sent this photo from Ruby #Alaska as ...</td>\n",
       "      <td>1</td>\n",
       "    </tr>\n",
       "    <tr>\n",
       "      <th>...</th>\n",
       "      <td>...</td>\n",
       "      <td>...</td>\n",
       "      <td>...</td>\n",
       "      <td>...</td>\n",
       "      <td>...</td>\n",
       "    </tr>\n",
       "    <tr>\n",
       "      <th>7598</th>\n",
       "      <td>10853</td>\n",
       "      <td>NaN</td>\n",
       "      <td>NaN</td>\n",
       "      <td>Father-of-three Lost Control of Car After Over...</td>\n",
       "      <td>1</td>\n",
       "    </tr>\n",
       "    <tr>\n",
       "      <th>7599</th>\n",
       "      <td>10854</td>\n",
       "      <td>NaN</td>\n",
       "      <td>NaN</td>\n",
       "      <td>1.3 #Earthquake in 9Km Ssw Of Anza California ...</td>\n",
       "      <td>1</td>\n",
       "    </tr>\n",
       "    <tr>\n",
       "      <th>7600</th>\n",
       "      <td>10855</td>\n",
       "      <td>NaN</td>\n",
       "      <td>NaN</td>\n",
       "      <td>Evacuation order lifted for town of Roosevelt:...</td>\n",
       "      <td>1</td>\n",
       "    </tr>\n",
       "    <tr>\n",
       "      <th>7601</th>\n",
       "      <td>10859</td>\n",
       "      <td>NaN</td>\n",
       "      <td>NaN</td>\n",
       "      <td>#breaking #LA Refugio oil spill may have been ...</td>\n",
       "      <td>1</td>\n",
       "    </tr>\n",
       "    <tr>\n",
       "      <th>7602</th>\n",
       "      <td>10860</td>\n",
       "      <td>NaN</td>\n",
       "      <td>NaN</td>\n",
       "      <td>a siren just went off and it wasn't the Forney...</td>\n",
       "      <td>1</td>\n",
       "    </tr>\n",
       "  </tbody>\n",
       "</table>\n",
       "<p>7603 rows × 5 columns</p>\n",
       "</div>"
      ],
      "text/plain": [
       "         id keyword location  \\\n",
       "0         1     NaN      NaN   \n",
       "1         4     NaN      NaN   \n",
       "2         5     NaN      NaN   \n",
       "3         6     NaN      NaN   \n",
       "4         7     NaN      NaN   \n",
       "...     ...     ...      ...   \n",
       "7598  10853     NaN      NaN   \n",
       "7599  10854     NaN      NaN   \n",
       "7600  10855     NaN      NaN   \n",
       "7601  10859     NaN      NaN   \n",
       "7602  10860     NaN      NaN   \n",
       "\n",
       "                                                   text  target  \n",
       "0     Our Deeds are the Reason of this #earthquake M...       1  \n",
       "1                Forest fire near La Ronge Sask. Canada       1  \n",
       "2     All residents asked to 'shelter in place' are ...       1  \n",
       "3     13,000 people receive #wildfires evacuation or...       1  \n",
       "4     Just got sent this photo from Ruby #Alaska as ...       1  \n",
       "...                                                 ...     ...  \n",
       "7598  Father-of-three Lost Control of Car After Over...       1  \n",
       "7599  1.3 #Earthquake in 9Km Ssw Of Anza California ...       1  \n",
       "7600  Evacuation order lifted for town of Roosevelt:...       1  \n",
       "7601  #breaking #LA Refugio oil spill may have been ...       1  \n",
       "7602  a siren just went off and it wasn't the Forney...       1  \n",
       "\n",
       "[7603 rows x 5 columns]"
      ]
     },
     "execution_count": 8,
     "metadata": {},
     "output_type": "execute_result"
    }
   ],
   "source": [
    "# --- 1. Aperçu général du dataset ---\n",
    "df.head(-10)"
   ]
  },
  {
   "cell_type": "code",
   "execution_count": 10,
   "id": "40bbacc2",
   "metadata": {},
   "outputs": [
    {
     "data": {
      "text/plain": [
       "(7613, 5)"
      ]
     },
     "execution_count": 10,
     "metadata": {},
     "output_type": "execute_result"
    }
   ],
   "source": [
    "df.shape"
   ]
  },
  {
   "cell_type": "code",
   "execution_count": 13,
   "id": "56cc17e9",
   "metadata": {},
   "outputs": [
    {
     "name": "stdout",
     "output_type": "stream",
     "text": [
      "<class 'pandas.core.frame.DataFrame'>\n",
      "RangeIndex: 7613 entries, 0 to 7612\n",
      "Data columns (total 5 columns):\n",
      " #   Column    Non-Null Count  Dtype \n",
      "---  ------    --------------  ----- \n",
      " 0   id        7613 non-null   int64 \n",
      " 1   keyword   7552 non-null   object\n",
      " 2   location  5080 non-null   object\n",
      " 3   text      7613 non-null   object\n",
      " 4   target    7613 non-null   int64 \n",
      "dtypes: int64(2), object(3)\n",
      "memory usage: 297.5+ KB\n"
     ]
    }
   ],
   "source": [
    "df.info()"
   ]
  },
  {
   "cell_type": "code",
   "execution_count": 14,
   "id": "289b3b5b",
   "metadata": {},
   "outputs": [
    {
     "data": {
      "text/plain": [
       "id             0\n",
       "keyword       61\n",
       "location    2533\n",
       "text           0\n",
       "target         0\n",
       "dtype: int64"
      ]
     },
     "execution_count": 14,
     "metadata": {},
     "output_type": "execute_result"
    }
   ],
   "source": [
    "# --- 2. Valeurs manquantes et doublons ---\n",
    "df.isna().sum()"
   ]
  },
  {
   "cell_type": "code",
   "execution_count": 15,
   "id": "88baeff2",
   "metadata": {},
   "outputs": [
    {
     "data": {
      "text/plain": [
       "0"
      ]
     },
     "execution_count": 15,
     "metadata": {},
     "output_type": "execute_result"
    }
   ],
   "source": [
    "df.duplicated().sum()"
   ]
  },
  {
   "cell_type": "code",
   "execution_count": 16,
   "id": "8ce2878a",
   "metadata": {},
   "outputs": [],
   "source": [
    "# --- 4. Colonnes utiles ---\n",
    "colonnes_utiles = ['text', 'target']\n",
    "df = df[colonnes_utiles]"
   ]
  },
  {
   "cell_type": "code",
   "execution_count": 17,
   "id": "adf5c7a8",
   "metadata": {},
   "outputs": [
    {
     "data": {
      "text/plain": [
       "text      object\n",
       "target     int64\n",
       "dtype: object"
      ]
     },
     "execution_count": 17,
     "metadata": {},
     "output_type": "execute_result"
    }
   ],
   "source": [
    "# --- 5. Vérification des types et contenus ---\n",
    "df.dtypes"
   ]
  },
  {
   "cell_type": "code",
   "execution_count": 18,
   "id": "ae25eee2",
   "metadata": {},
   "outputs": [
    {
     "name": "stdout",
     "output_type": "stream",
     "text": [
      "\n",
      "Nombre de textes vides ou NaN : 0\n"
     ]
    }
   ],
   "source": [
    "# --- 6. Incohérences : texte vide ou NaN ? ---\n",
    "textes_vides = df['text'].isna().sum() + (df['text'].str.strip() == '').sum()\n",
    "print(f\"\\nNombre de textes vides ou NaN : {textes_vides}\")"
   ]
  },
  {
   "cell_type": "code",
   "execution_count": 36,
   "id": "91871f0d",
   "metadata": {},
   "outputs": [
    {
     "name": "stdout",
     "output_type": "stream",
     "text": [
      "\n",
      "Statistiques sur les longueurs de texte :\n"
     ]
    },
    {
     "name": "stderr",
     "output_type": "stream",
     "text": [
      "C:\\Users\\pc\\AppData\\Local\\Temp\\ipykernel_9664\\2502157142.py:2: SettingWithCopyWarning: \n",
      "A value is trying to be set on a copy of a slice from a DataFrame.\n",
      "Try using .loc[row_indexer,col_indexer] = value instead\n",
      "\n",
      "See the caveats in the documentation: https://pandas.pydata.org/pandas-docs/stable/user_guide/indexing.html#returning-a-view-versus-a-copy\n",
      "  df['text_length'] = df['text'].astype(str).apply(len)\n"
     ]
    },
    {
     "data": {
      "text/plain": [
       "count    7614.000000\n",
       "mean      101.024560\n",
       "std        33.797786\n",
       "min         3.000000\n",
       "25%        78.000000\n",
       "50%       107.000000\n",
       "75%       133.000000\n",
       "max       157.000000\n",
       "Name: text_length, dtype: float64"
      ]
     },
     "execution_count": 36,
     "metadata": {},
     "output_type": "execute_result"
    }
   ],
   "source": [
    "# --- 7. Analyse des longueurs de texte ---\n",
    "df['text_length'] = df['text'].astype(str).apply(len)\n",
    "print(\"\\nStatistiques sur les longueurs de texte :\")\n",
    "df['text_length'].describe()\n"
   ]
  },
  {
   "cell_type": "code",
   "execution_count": 39,
   "id": "acf366e3",
   "metadata": {},
   "outputs": [],
   "source": [
    "df = df.drop(index='text_length', errors='ignore')"
   ]
  },
  {
   "cell_type": "code",
   "execution_count": 40,
   "id": "19aae1c0",
   "metadata": {},
   "outputs": [
    {
     "name": "stdout",
     "output_type": "stream",
     "text": [
      "Nombres de valeurs manquantes dans 'text' : 0\n",
      "\n",
      "Exemples de lignes avec texte manquant :\n",
      "Empty DataFrame\n",
      "Columns: [text, target, text_length]\n",
      "Index: []\n"
     ]
    }
   ],
   "source": [
    "print(\"Nombres de valeurs manquantes dans 'text' :\", df['text'].isnull().sum())\n",
    "print(\"\\nExemples de lignes avec texte manquant :\")\n",
    "print(df[df['text'].isnull()].head())"
   ]
  },
  {
   "cell_type": "code",
   "execution_count": 41,
   "id": "973181fe",
   "metadata": {},
   "outputs": [
    {
     "data": {
      "image/png": "[encoded data removed]",
      "text/plain": [
       "<Figure size 1000x400 with 1 Axes>"
      ]
     },
     "metadata": {},
     "output_type": "display_data"
    }
   ],
   "source": [
    "plt.figure(figsize=(10,4))\n",
    "sns.histplot(df['text_length'], bins=50, kde=True)\n",
    "plt.title(\"Distribution des longueurs de texte\")\n",
    "plt.xlabel(\"Longueur\")\n",
    "plt.ylabel(\"Fréquence\")\n",
    "plt.show()\n"
   ]
  },
  {
   "cell_type": "code",
   "execution_count": 42,
   "id": "91bd4991",
   "metadata": {},
   "outputs": [
    {
     "data": {
      "image/png": "[encoded data removed]",
      "text/plain": [
       "<Figure size 800x400 with 1 Axes>"
      ]
     },
     "metadata": {},
     "output_type": "display_data"
    }
   ],
   "source": [
    "# Ajout de la colonne text_length\n",
    "#df['text_length'] = df['text'].astype(str).apply(len)\n",
    "\n",
    "# Boxplot\n",
    "plt.figure(figsize=(8, 4))\n",
    "sns.boxplot(x=df['text_length'])\n",
    "plt.title(\"Boxplot des longueurs de tweets\")\n",
    "plt.xlabel(\"Longueur des tweets\")\n",
    "plt.grid(True)\n",
    "plt.show()"
   ]
  },
  {
   "cell_type": "code",
   "execution_count": 43,
   "id": "92761bbc",
   "metadata": {},
   "outputs": [
    {
     "name": "stdout",
     "output_type": "stream",
     "text": [
      "\n",
      "Nombre de tweets outliers (longueurs extrêmes) : 0\n",
      "Empty DataFrame\n",
      "Columns: [text, text_length, target]\n",
      "Index: []\n"
     ]
    }
   ],
   "source": [
    "Q1 = df['text_length'].quantile(0.25)\n",
    "Q3 = df['text_length'].quantile(0.75)\n",
    "IQR = Q3 - Q1\n",
    "\n",
    "# Définir les bornes extrêmes\n",
    "borne_basse = Q1 - 1.5 * IQR\n",
    "borne_haute = Q3 + 1.5 * IQR\n",
    "\n",
    "outliers = df[(df['text_length'] < borne_basse) | (df['text_length'] > borne_haute)]\n",
    "\n",
    "print(f\"\\nNombre de tweets outliers (longueurs extrêmes) : {len(outliers)}\")\n",
    "print(outliers[['text', 'text_length', 'target']].head())"
   ]
  },
  {
   "cell_type": "code",
   "execution_count": 44,
   "id": "f33ad315",
   "metadata": {},
   "outputs": [
    {
     "name": "stdout",
     "output_type": "stream",
     "text": [
      "\n",
      "Répartition de la variable cible (target) :\n",
      "target\n",
      "0.0    0.57034\n",
      "1.0    0.42966\n",
      "Name: proportion, dtype: float64\n"
     ]
    }
   ],
   "source": [
    "# --- 8. Répartition de la variable cible ---\n",
    "print(\"\\nRépartition de la variable cible (target) :\")\n",
    "print(df['target'].value_counts(normalize=True))"
   ]
  },
  {
   "cell_type": "code",
   "execution_count": 45,
   "id": "e0285e31",
   "metadata": {},
   "outputs": [
    {
     "data": {
      "image/png": "[encoded data removed]",
      "text/plain": [
       "<Figure size 600x400 with 1 Axes>"
      ]
     },
     "metadata": {},
     "output_type": "display_data"
    }
   ],
   "source": [
    "plt.figure(figsize=(6,4))\n",
    "sns.countplot(x='target', data=df)\n",
    "plt.title(\"Distribution des classes (target)\")\n",
    "plt.xlabel(\"Classe\")\n",
    "plt.ylabel(\"Nombre de tweets\")\n",
    "plt.xticks([0, 1], ['Non catastrophe', 'Catastrophe'])\n",
    "plt.show()"
   ]
  },
  {
   "cell_type": "code",
   "execution_count": 46,
   "id": "a2b2a866",
   "metadata": {},
   "outputs": [
    {
     "name": "stdout",
     "output_type": "stream",
     "text": [
      "\n",
      "Tweets aléatoires (visuellement pour juger la prédictibilité) :\n",
      "                                                   text  target\n",
      "4541  http://t.co/qr3YPEkfOe \\nSeems they declared w...     1.0\n",
      "2377  BBC News - India rail crash: Trains derail in ...     1.0\n",
      "5696  Heroes! A Springer Spaniel &amp; her dog dad r...     1.0\n",
      "314   @ENews Ben Affleck......I know there's a wife/...     0.0\n",
      "4553  4 dead dozens injured in Gaza blast near house...     1.0\n"
     ]
    }
   ],
   "source": [
    "# --- 9. Tweets aléatoires pour interprétation manuelle ---\n",
    "print(\"\\nTweets aléatoires (visuellement pour juger la prédictibilité) :\")\n",
    "print(df.sample(5)[['text', 'target']])"
   ]
  },
  {
   "cell_type": "code",
   "execution_count": 52,
   "id": "0e41d72a",
   "metadata": {},
   "outputs": [
    {
     "name": "stdout",
     "output_type": "stream",
     "text": [
      "==== Vérifications de cohérence du dataset ====\n",
      "\n",
      "✔️ Colonnes 'text' et 'target' présentes avec types corrects.\n",
      "✔️ Aucune valeur manquante détectée. 92 doublons détectés.\n",
      "✔️ Tous les tweets contiennent du texte non vide.\n",
      "✔️ Nombre de classes dans target : 2 (OK)\n",
      "✔️ Longueurs de texte - Min : 7.0, Moyenne : 101.04, Max : 157.0\n",
      "\n",
      " Tous les tests de cohérence ont été passés avec succès\n"
     ]
    }
   ],
   "source": [
    "# --- Cellule : Tests de cohérence EDA ---\n",
    "\n",
    "print(\"==== Vérifications de cohérence du dataset ====\\n\")\n",
    "\n",
    "# 1. Vérification de la présence et des types des colonnes text et target\n",
    "assert 'text' in df.columns, \"La colonne 'text' est absente\"\n",
    "assert 'target' in df.columns, \"La colonne 'target' est absente\"\n",
    "assert df['text'].dtype == object or df['text'].dtype == \"string\", \"Type inattendu pour la colonne 'text'\"\n",
    "assert df['target'].dtype in [int, float], \"Type inattendu pour la colonne 'target'\"\n",
    "print(\"✔️ Colonnes 'text' et 'target' présentes avec types corrects.\")\n",
    "\n",
    "# 2. Détection automatique de valeurs manquantes ou doublons\n",
    "assert df['text'].isnull().sum() == 0, \"Des valeurs manquantes dans 'text'\"\n",
    "assert df['target'].isnull().sum() == 0, \"Des valeurs manquantes dans 'target'\"\n",
    "duplicated_rows = df.duplicated().sum()\n",
    "print(f\"✔️ Aucune valeur manquante détectée. {duplicated_rows} doublons détectés.\")\n",
    "\n",
    "# 3. Vérification que tous les textes sont non-vides\n",
    "assert (df['text'].str.strip().str.len() > 0).all(), \"Certains textes sont vides\"\n",
    "print(\"✔️ Tous les tweets contiennent du texte non vide.\")\n",
    "\n",
    "# 4. Validation du nombre de classes possibles\n",
    "n_classes = df['target'].nunique()\n",
    "assert n_classes == 2, f\"Nombre de classes inattendu : {n_classes} (attendu : 2)\"\n",
    "print(f\"✔️ Nombre de classes dans target : {n_classes} (OK)\")\n",
    "\n",
    "# 5. Test sur les longueurs de texte (moyenne, min, max)\n",
    "df['text_length'] = df['text'].astype(str).apply(len)\n",
    "text_length_stats = df['text_length'].describe()[['min', 'mean', 'max']].to_dict()\n",
    "print(f\"✔️ Longueurs de texte - Min : {text_length_stats['min']}, Moyenne : {text_length_stats['mean']:.2f}, Max : {text_length_stats['max']}\")\n",
    "\n",
    "print(\"\\n Tous les tests de cohérence ont été passés avec succès\")\n"
   ]
  }
 ],
 "metadata": {
  "kernelspec": {
   "display_name": "base",
   "language": "python",
   "name": "python3"
  },
  "language_info": {
   "codemirror_mode": {
    "name": "ipython",
    "version": 3
   },
   "file_extension": ".py",
   "mimetype": "text/x-python",
   "name": "python",
   "nbconvert_exporter": "python",
   "pygments_lexer": "ipython3",
   "version": "3.12.7"
  }
 },
 "nbformat": 4,
 "nbformat_minor": 5
}
